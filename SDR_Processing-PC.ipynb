{
 "cells": [
  {
   "cell_type": "markdown",
   "id": "e56a6504-c62c-4f92-936c-bf88cdc131e0",
   "metadata": {},
   "source": [
    "# OFDM-Radar-Processing\n",
    "## Initialisation"
   ]
  },
  {
   "cell_type": "code",
   "execution_count": null,
   "id": "7a687eef-1509-4457-a445-84d1e05825df",
   "metadata": {},
   "outputs": [],
   "source": [
    "import numpy as np\n",
    "import matplotlib.pyplot as plt\n",
    "import scipy.signal as signal\n",
    "import math\n",
    "import sys\n",
    "import os\n",
    "\n",
    "#import QPSK-Modulator\n",
    "sys.path.append(os.path.abspath(\"Radar\"))\n",
    "#import Data\n",
    "f = np.fromfile(open(\"Radar/SDR_Data_alternate_14m\"), dtype=np.complex64)\n",
    "send_syms = np.fromfile(open(\"Radar/send_syms\"), dtype=np.complex64)\n",
    "\n",
    "#initialization Varibels (set in GNU-Radio)\n",
    "N = int(1024) #IFFT Size in transmitter \n",
    "CP = int(N/16) #Cyclic Prefix Size \n",
    "fc = 3.65e9 #carrier frequency\n",
    "B = 56e6 #max bandwidth\n",
    "frame_len = 256 #Number of OFDM-Symbols in time domain \n",
    "Nq_G =  int(N/4) #possible Nyquist-Guard\n",
    "alternating = True\n",
    "frame_samples = int((N+CP)*frame_len)#number of samples per frame\n",
    "\n",
    "if alternating == True:\n",
    "    \n",
    "    occ_carr = N//2\n",
    "    B_a = B\n",
    "    delta_f = B/N*1/2\n",
    "\n",
    "else:\n",
    "    \n",
    "    occ_carr = N-2*Nq_G\n",
    "    delta_f = B/N\n",
    "    B_a = B - delta_f*2*Nq_G\n",
    "    \n",
    "      \n",
    "ofdm_syms = int(occ_carr*frame_len) #ofdm-symbols time and frequency domain\n",
    "delta_f = B_a/occ_carr #actual subcarrier distance\n",
    "\n",
    "print('Number Subcarrier',occ_carr)\n",
    "print('Bandwidth:',B_a*1e-6, 'MHz')\n",
    "print('Subcarrier Spacing:',delta_f*1e-3, 'kHz')\n",
    "print('Range Resolution:', np.round(3e8/(2*B_a),1), 'm')\n",
    "print('Velocity Resolution:', np.round(3e8/(2*fc*frame_samples*1/B)/3.6, 1), 'km/h')\n",
    "print(send_syms.shape)\n",
    "print(f.shape)"
   ]
  },
  {
   "cell_type": "markdown",
   "id": "f4956568-53a9-4678-8e99-aa0054a30183",
   "metadata": {},
   "source": [
    "## Framed Processing"
   ]
  },
  {
   "cell_type": "code",
   "execution_count": null,
   "id": "e74372f4-5ffa-4867-a598-cbffa9b7c2f4",
   "metadata": {},
   "outputs": [],
   "source": [
    "#if Data is not reshapeable to [frame_len, (N+CP)] -> problem aso resolved:  \n",
    "M = f.shape[0]/((N+CP)*frame_len)\n",
    "\n",
    "M_ceil = math.ceil(M)\n",
    "\n",
    "M_comp = int(f.shape[0]/((N+CP)*frame_len))\n",
    "\n",
    "M_rest = f.shape[0]/((N+CP)*frame_len) - M_comp\n",
    "\n",
    "res = int(math.ceil(M) * ((N+CP)*frame_len))\n",
    "\n",
    "padding = res - f.size \n",
    "\n",
    "f = np.pad(f, (0, padding), mode='constant', constant_values=0)\n",
    "\n",
    "f = f.reshape(int(M_ceil), int((N+CP)*frame_len))\n",
    "\n",
    "\n",
    "\n",
    "#frame_len = frame_len -1\n",
    "#ofdm_syms = int(occ_carr*frame_len)\n",
    "#f = f[:, :-(N+CP)]\n",
    "print(f.shape[0]*f.shape[1])\n",
    "print(occ_carr)\n",
    "print(M)"
   ]
  },
  {
   "cell_type": "markdown",
   "id": "41a21fac-c202-4dbd-b437-a33c452d2ee7",
   "metadata": {},
   "source": [
    "## Display diffrent received Frames"
   ]
  },
  {
   "cell_type": "code",
   "execution_count": null,
   "id": "32e5eaeb-7a9b-4224-ad8c-fe77fdc07350",
   "metadata": {},
   "outputs": [],
   "source": [
    "#plot of the ofdm symbols in time domain of one frame f[x] ... x is the frame in range of captured transmissions (1 every second)\n",
    "\n",
    "real_part = np.real(f[0])\n",
    "imag_part = np.imag(f[0])\n",
    "\n",
    "plt.figure(figsize=(10, 5))\n",
    "plt.plot(real_part, label=\"real\", color=\"blue\")\n",
    "plt.plot(imag_part, label=\"imaginary\", color=\"red\")\n",
    "\n",
    "plt.xlabel(\"sample\")\n",
    "plt.ylabel(\"amplitude\")\n",
    "plt.title(\"OFDM-Frame\")\n",
    "plt.xlim(0,100)\n",
    "plt.legend()\n",
    "plt.grid()\n",
    "\n",
    "plt.show()\n"
   ]
  },
  {
   "cell_type": "markdown",
   "id": "0b58b5b4-906e-4ccd-ad03-b455db691d20",
   "metadata": {},
   "source": [
    "## Choose Receive Frame for Radar Processing"
   ]
  },
  {
   "cell_type": "code",
   "execution_count": 1598,
   "id": "768749ae-c882-4328-b985-f220c88d9916",
   "metadata": {},
   "outputs": [],
   "source": [
    "#choose one of the detected bursts or Frames\n",
    "frame = f[1]"
   ]
  },
  {
   "cell_type": "markdown",
   "id": "1fd39a9e-7f58-4c66-ad07-2159c22a4c72",
   "metadata": {},
   "source": [
    "## Display of the Frame"
   ]
  },
  {
   "cell_type": "code",
   "execution_count": null,
   "id": "ba1f81a2-2b34-4d02-aed8-b7c65fffbc98",
   "metadata": {},
   "outputs": [],
   "source": [
    "#plot of further processed Frame\n",
    "\n",
    "real_part = np.real(frame)\n",
    "imag_part = np.imag(frame)\n",
    "\n",
    "plt.figure(figsize=(10, 5))\n",
    "plt.plot(real_part, label=\"Realteil\", color=\"blue\")\n",
    "plt.plot(imag_part, label=\"Imaginärteil\", color=\"red\")\n",
    "\n",
    "plt.xlabel(\"sample\")\n",
    "plt.ylabel(\"amplitude\")\n",
    "plt.title(\"OFDM-Frame\")\n",
    "plt.xlim(0,30000)\n",
    "plt.legend()\n",
    "plt.grid()\n",
    "\n",
    "plt.show()\n",
    "\n",
    "plt.figure(figsize=(10, 5))\n",
    "plt.plot(real_part, label=\"Realteil\", color=\"blue\")\n",
    "plt.plot(imag_part, label=\"Imaginärteil\", color=\"red\")\n",
    "\n",
    "plt.xlabel(\"sample\")\n",
    "plt.ylabel(\"amplitude\")\n",
    "plt.title(\"OFDM-Frame\")\n",
    "#plt.xlim(ofdm_syms-occ_carr,ofdm_syms)\n",
    "plt.legend()\n",
    "plt.grid()\n",
    "\n",
    "plt.show()\n"
   ]
  },
  {
   "cell_type": "markdown",
   "id": "8cbe4796-8697-471e-813c-131b73aed430",
   "metadata": {},
   "source": [
    "## Remove CP and calculate FFT of received Frames to obtain received modulation symbols"
   ]
  },
  {
   "cell_type": "code",
   "execution_count": null,
   "id": "75af5a8d-d0c2-4809-a3a7-5f065eae26a6",
   "metadata": {
    "editable": true,
    "slideshow": {
     "slide_type": ""
    },
    "tags": []
   },
   "outputs": [],
   "source": [
    "# exclude CP and calculate FFT for every ofdm-symbol in time domain\n",
    "\n",
    "fft_syms = []\n",
    "symbol_oCP = []\n",
    "for i in range(frame_len): # capture span was over one frame \n",
    "    symbol_wCP = frame[int(i * (N + CP)): int((i + 1) * (N + CP))]\n",
    "    symbol = symbol_wCP[CP:]\n",
    "    symbol_oCP.append(symbol)\n",
    "    fft_sym = np.fft.fft(symbol)\n",
    "    fft_shift = np.fft.fftshift(fft_sym)\n",
    "    fft_syms.append(fft_shift)\n",
    "\n",
    "fft_syms = np.array(fft_syms, dtype=complex)\n",
    "\n",
    "fft_syms.shape"
   ]
  },
  {
   "cell_type": "markdown",
   "id": "38eceeee-164e-4ca4-8c92-875045c8d275",
   "metadata": {},
   "source": [
    "## Frequency Spectrum of received Signal"
   ]
  },
  {
   "cell_type": "code",
   "execution_count": null,
   "id": "8c8c3ef7-5f44-4ac3-a31e-a407bc404aa6",
   "metadata": {},
   "outputs": [],
   "source": [
    "#show spectrum of one of the symbols from captured OFDM frame\n",
    "\n",
    "\n",
    "\n",
    "fft_syms_r = fft_syms\n",
    "\n",
    "fft_syms_r.reshape((N, int(frame_len)))\n",
    "\n",
    "amplitude = np.abs(fft_syms_r)\n",
    "magnitude = 10*np.log(amplitude)\n",
    "frequencies = np.fft.fftfreq(fft_syms_r.shape[1])\n",
    "shifted_frequencies = np.fft.fftshift(frequencies)  #shift DC to th middle\n",
    "\n",
    "plt.plot(shifted_frequencies, magnitude[0]) # -> choose the spectrum of wich symbol to display\n",
    "plt.title(\"FFT\")\n",
    "plt.xlabel(\"frequency (normalized)\")\n",
    "plt.ylabel(\"dB\")\n",
    "plt.grid(True)\n",
    "plt.show()"
   ]
  },
  {
   "cell_type": "markdown",
   "id": "918ad0b6-3264-4c65-bfbb-8624210b0be3",
   "metadata": {},
   "source": [
    "## Select occupied Carrier"
   ]
  },
  {
   "cell_type": "code",
   "execution_count": null,
   "id": "d0256f79-d9b7-4df8-8a90-b72553536fc1",
   "metadata": {},
   "outputs": [],
   "source": [
    "#only select actual occupied carrier\n",
    "if alternating == True:\n",
    "    fft_syms_xNq = fft_syms[:,1::2]\n",
    "\n",
    "else:\n",
    "    fft_syms_xNq = fft_syms[:,Nq_G:int(N-Nq_G)]\n",
    "\n",
    "\n",
    "fft_syms_xNq.shape"
   ]
  },
  {
   "cell_type": "markdown",
   "id": "1144c8cf-5385-4dcd-b1c7-a0d5d8f3439f",
   "metadata": {},
   "source": [
    "## Display Spectrum of occupied Carrier"
   ]
  },
  {
   "cell_type": "code",
   "execution_count": null,
   "id": "616c583f-f935-4919-90ba-e73a77c55417",
   "metadata": {},
   "outputs": [],
   "source": [
    "#show spectrum of selcetd carrier\n",
    "fft_syms_xNq_r = fft_syms_xNq\n",
    "fft_syms_xNq_r.reshape((fft_syms_xNq.shape[1], frame_len))\n",
    "\n",
    "amplitude = np.abs(fft_syms_xNq_r)\n",
    "magnitude = 10*np.log(amplitude)\n",
    "\n",
    "frequencies = np.fft.fftfreq(fft_syms_xNq.shape[1])\n",
    "shifted_frequencies = np.fft.fftshift(frequencies)  # DC to the middle\n",
    "\n",
    "plt.plot(shifted_frequencies, magnitude[0]) # -> choose spectrum of which symbol to display\n",
    "plt.title(\"FFT\")\n",
    "plt.xlabel(\"frequency (normalized)\")\n",
    "plt.ylabel(\"dB\")\n",
    "plt.grid(True)\n",
    "plt.show()"
   ]
  },
  {
   "cell_type": "markdown",
   "id": "87902bf6-c61d-4c1e-ac53-f92257f6d590",
   "metadata": {},
   "source": [
    "## Calculate Channel response from received and sent modulation symbols"
   ]
  },
  {
   "cell_type": "code",
   "execution_count": null,
   "id": "1ce963fe-ff3a-4005-9c93-ee499eed4fdd",
   "metadata": {},
   "outputs": [],
   "source": [
    "# dividision with send symbols -> get channel response \n",
    "fft_syms_xNq_f = fft_syms_xNq.flatten()\n",
    "recv_syms = fft_syms_xNq_f\n",
    "\n",
    "syms = recv_syms / send_syms\n",
    "syms_flat = syms\n",
    "w0 = signal.get_window('hamming', occ_carr)\n",
    "w1 = signal.get_window('hamming', frame_len)\n",
    "W, V = np.meshgrid(w0, w1)\n",
    "Window = W*V\n",
    "\n",
    "syms = syms.reshape(frame_len, occ_carr)\n",
    "syms *= Window\n",
    " \n",
    "\n",
    "s = 8\n",
    "k = 4\n",
    "syms_pad = np.pad(syms, pad_width=((int(s*frame_len), int(s*frame_len)), (0, int(k*occ_carr))), mode='constant', constant_values=0)\n",
    "print(syms_pad.shape)\n",
    "print(Window.shape)\n",
    "print(syms.shape)\n",
    "\n"
   ]
  },
  {
   "cell_type": "code",
   "execution_count": null,
   "id": "ed8939d3-e6a8-4b70-b985-32bc74cdb5ca",
   "metadata": {},
   "outputs": [],
   "source": [
    "# Angenommen, syms enthält die demodulierten Symbole\n",
    "# Falls syms komplex ist, extrahieren wir die I- und Q-Komponenten\n",
    "\n",
    "# Angenommen, rotated_syms[0] enthält die demodulierten Symbole\n",
    "I = recv_syms[:occ_carr].real\n",
    "Q = recv_syms[:occ_carr].imag\n",
    "\n",
    "# Erstelle eine Farbskala basierend auf der Indexposition\n",
    "colors = np.linspace(0, 1, len(I))\n",
    "\n",
    "# Erstelle den IQ-Plot mit Farbverlauf\n",
    "plt.figure(figsize=(6,6))\n",
    "plt.scatter(I, Q, c=colors, cmap='viridis', alpha=0.9, marker='o')\n",
    "\n",
    "# Achsenbeschriftungen und Titel\n",
    "plt.axhline(0, color='gray', linestyle='--', linewidth=0.5)\n",
    "plt.axvline(0, color='gray', linestyle='--', linewidth=0.5)\n",
    "plt.xlabel(\"in-phase (I)\")\n",
    "plt.ylabel(\"quadrature (Q)\")\n",
    "plt.title(\"IQ plot received symbols\")\n",
    "\n",
    "# Farbskala hinzufügen\n",
    "plt.colorbar(label=\"Symbol index (normalized)\")\n",
    "\n",
    "plt.grid(True)\n",
    "plt.show()"
   ]
  },
  {
   "cell_type": "code",
   "execution_count": null,
   "id": "4c014893-c05d-4ddf-ac9d-1056a41a5429",
   "metadata": {},
   "outputs": [],
   "source": [
    "exclude = syms_flat\n",
    "\n",
    "# Angenommen, rotated_syms[0] enthält die demodulierten Symbole\n",
    "I = exclude[:occ_carr].real\n",
    "Q = exclude[:occ_carr].imag\n",
    "print(len(I))\n",
    "# Erstelle eine Farbskala basierend auf der Indexposition\n",
    "colors = np.linspace(0, 1, len(I))\n",
    "\n",
    "# Erstelle den IQ-Plot mit Farbverlauf\n",
    "plt.figure(figsize=(6,6))\n",
    "plt.scatter(I, Q, c=colors, cmap='viridis', alpha=0.9, marker='o')\n",
    "\n",
    "# Achsenbeschriftungen und Titel\n",
    "plt.axhline(0, color='gray', linestyle='--', linewidth=0.5)\n",
    "plt.axvline(0, color='gray', linestyle='--', linewidth=0.5)\n",
    "plt.xlabel(\"In-Phase (I)\")\n",
    "plt.xlim(-0.2,0.2)\n",
    "plt.ylim(-0.2,0.2)\n",
    "plt.ylabel(\"Quadrature (Q)\")\n",
    "plt.title(\"IQ-Plot der demodulierten Symbole\")\n",
    "\n",
    "# Farbskala hinzufügen\n",
    "plt.colorbar(label=\"Symbol-Index (Normalisiert)\")\n",
    "\n",
    "plt.grid(True)\n",
    "plt.show()"
   ]
  },
  {
   "cell_type": "code",
   "execution_count": null,
   "id": "d00724d6-3cba-4ac2-bad8-797bd48d60e7",
   "metadata": {},
   "outputs": [],
   "source": [
    "exclude_fft = np.fft.ifft(exclude)\n",
    "exclude_fft = np.fft.fftshift(exclude_fft)\n",
    "\n",
    "amplitude = np.abs(exclude_fft)\n",
    "magnitude = 10*np.log(amplitude)\n",
    "\n",
    "frequencies = np.fft.fftfreq(exclude_fft.shape[0])\n",
    "shifted_frequencies = np.fft.fftshift(frequencies)  # DC to the middle\n",
    "\n",
    "plt.plot(shifted_frequencies, amplitude) # -> choose spectrum of which symbol to display\n",
    "plt.title(\"FFT\")\n",
    "plt.xlabel(\"frequency (normalized)\")\n",
    "plt.ylabel(\"dB\")\n",
    "plt.xlim(-0.05, 0.05)\n",
    "plt.grid(True)\n",
    "plt.show()"
   ]
  },
  {
   "cell_type": "code",
   "execution_count": null,
   "id": "56414a53-a65f-4b55-83eb-e744d4e3418d",
   "metadata": {},
   "outputs": [],
   "source": [
    "#Radar Processing\n",
    "\n",
    "#FFT in time domain\n",
    "RD_Map = np.fft.fft(syms_pad, axis=0)\n",
    "\n",
    "#IFFT in frequency domain\n",
    "RD_Map = np.fft.ifft(RD_Map, axis=1)\n",
    "\n",
    "#shift because doppler maybe negative \n",
    "RD_Map = np.fft.fftshift(RD_Map, axes=0)\n",
    "#Magnitude squared of RD_Map\n",
    "RD_Map = np.abs(RD_Map)**2\n",
    "\n",
    "Y_ax = RD_Map.shape[0]//2\n",
    "X_ax = RD_Map.shape[1]\n",
    "print(RD_Map.shape[1])\n",
    "#calculate distance and velocity\n",
    "tau = np.arange(0, occ_carr, 1/(k+1))/(occ_carr*delta_f)\n",
    "dist = 3e8*tau/2\n",
    "dist = np.round(dist, 1)\n",
    "\n",
    "fd = np.arange(-frame_len//2, frame_len//2, 1/(s*2+1))/((N+CP)*frame_len*1/B)\n",
    "fd_round = np.round(fd, 1)\n",
    "vel = 3.6*fd*3e8/(2*fc)\n",
    "vel = np.round(vel, 1)\n",
    "\n",
    "\n",
    "#plot is cutted on the upper edge due to a even ammount of symbols\n",
    "plt.imshow(RD_Map, cmap='viridis', interpolation='none', aspect='auto', origin=\"lower\", extent=[0, X_ax, Y_ax, -Y_ax+1])\n",
    "plt.colorbar(label=\"Magnitude\")\n",
    "plt.xticks(np.arange(0, int(X_ax), 3), labels=dist[::3]) # choose tick delta -> 1/5 of xlim (actual displayed distance) seems suffitiend\n",
    "plt.yticks(np.arange(-Y_ax, Y_ax, 4), labels=vel[::4]) #choose tick delta \n",
    "plt.xlim(0,30) #choose displayed distance\n",
    "plt.ylim(-20,20)\n",
    "plt.title(\"Periodogram\")\n",
    "plt.xlabel(\"meter\")\n",
    "plt.ylabel(\"km/h\")\n",
    "\n",
    "plt.show()"
   ]
  },
  {
   "cell_type": "code",
   "execution_count": null,
   "id": "9a338fcb-ffe6-4800-b4b1-08d784404f87",
   "metadata": {},
   "outputs": [],
   "source": []
  },
  {
   "cell_type": "code",
   "execution_count": null,
   "id": "c123d07d-651a-49b3-8420-caa336385a4e",
   "metadata": {},
   "outputs": [],
   "source": []
  },
  {
   "cell_type": "code",
   "execution_count": null,
   "id": "b7ce7ec8-4edf-4e52-8802-f9acf6ff8d9b",
   "metadata": {},
   "outputs": [],
   "source": []
  },
  {
   "cell_type": "code",
   "execution_count": null,
   "id": "d4e3b8c4-bc79-4fb4-aaf4-a9f431925888",
   "metadata": {},
   "outputs": [],
   "source": []
  },
  {
   "cell_type": "code",
   "execution_count": null,
   "id": "01e91df6-9a98-4db3-be7c-0f6db915ec8c",
   "metadata": {},
   "outputs": [],
   "source": []
  },
  {
   "cell_type": "code",
   "execution_count": null,
   "id": "671a4769-07d7-4e5b-8abf-b02766d60e5f",
   "metadata": {},
   "outputs": [],
   "source": []
  },
  {
   "cell_type": "code",
   "execution_count": null,
   "id": "db8e0b6c-2403-4cf8-8e79-9b2bc9baa5f2",
   "metadata": {},
   "outputs": [],
   "source": [
    "1024//2"
   ]
  },
  {
   "cell_type": "code",
   "execution_count": null,
   "id": "cceef679-4ede-42f3-8bb1-00aca943bf82",
   "metadata": {},
   "outputs": [],
   "source": []
  },
  {
   "cell_type": "code",
   "execution_count": null,
   "id": "b8c0551d-2c70-42a0-ba41-93633b341ccc",
   "metadata": {},
   "outputs": [],
   "source": []
  }
 ],
 "metadata": {
  "kernelspec": {
   "display_name": "Python 3 (ipykernel)",
   "language": "python",
   "name": "python3"
  },
  "language_info": {
   "codemirror_mode": {
    "name": "ipython",
    "version": 3
   },
   "file_extension": ".py",
   "mimetype": "text/x-python",
   "name": "python",
   "nbconvert_exporter": "python",
   "pygments_lexer": "ipython3",
   "version": "3.10.15"
  }
 },
 "nbformat": 4,
 "nbformat_minor": 5
}
